{
 "cells": [
  {
   "cell_type": "code",
   "execution_count": 27,
   "metadata": {},
   "outputs": [],
   "source": [
    "import requests\n",
    "import json"
   ]
  },
  {
   "cell_type": "code",
   "execution_count": 28,
   "metadata": {},
   "outputs": [],
   "source": [
    "token = \"your tokenhere\"\n",
    "headers = {'Authorization': f'token {token}'}"
   ]
  },
  {
   "cell_type": "code",
   "execution_count": 35,
   "metadata": {},
   "outputs": [],
   "source": [
    "# Get all repositories for the organization\n",
    "repo_name = \"ayoba-api\"\n",
    "org_name = \"simfy-africa\"\n",
    "response = requests.get(f'https://api.github.com/repos/{org_name}/{repo_name}/pulls?state=all', headers=headers)\n",
    "pulls = json.loads(response.text)\n",
    "\n",
    "\n",
    "# Check if the response was successful and print the response if not\n",
    "if response.status_code != 200:\n",
    "    print(f\"Error getting repos: {response.status_code}, {response.text}\")\n",
    "    print(f\"Headers: {headers}\")\n"
   ]
  },
  {
   "cell_type": "code",
   "execution_count": null,
   "metadata": {},
   "outputs": [],
   "source": [
    "target_user = \"JuliasBright\"\n",
    "org_name = \"simfy-africa\"\n",
    "\n",
    "response = requests.get(f'https://api.github.com/orgs/{org_name}/repos', headers=headers)\n",
    "repos = json.loads(response.text)\n",
    "\n",
    "for repo in repos:\n",
    "    repo_name = repo['name']\n",
    "    response = requests.get(f'https://api.github.com/repos/{org_name}/{repo_name}/pulls?state=all', headers=headers)\n",
    "    pulls = json.loads(response.text)\n",
    "\n",
    "    for pull in pulls:\n",
    "        initiator = pull['user']['login']\n",
    "        pr_number = pull['number']\n",
    "        \n",
    "        response = requests.get(f'https://api.github.com/repos/{org_name}/{repo_name}/pulls/{pr_number}', headers=headers)\n",
    "        pr_detail = json.loads(response.text)\n",
    "\n",
    "        approver = pr_detail['merged_by']['login'] if pr_detail['merged_by'] else None\n",
    "\n",
    "        response = requests.get(f'https://api.github.com/repos/{org_name}/{repo_name}/pulls/{pr_number}/reviews', headers=headers)\n",
    "        reviews = json.loads(response.text)\n",
    "        reviewers = [review['user']['login'] for review in reviews]\n",
    "        \n",
    "        if initiator == target_user or target_user in reviewers or approver == target_user:\n",
    "            print(f'PR #{pr_number} was initiated by {initiator}, approved by {approver}, and reviewed by {\", \".join(reviewers)}')\n"
   ]
  },
  {
   "cell_type": "code",
   "execution_count": 43,
   "metadata": {},
   "outputs": [],
   "source": []
  }
 ],
 "metadata": {
  "kernelspec": {
   "display_name": "Python 3",
   "language": "python",
   "name": "python3"
  },
  "language_info": {
   "codemirror_mode": {
    "name": "ipython",
    "version": 3
   },
   "file_extension": ".py",
   "mimetype": "text/x-python",
   "name": "python",
   "nbconvert_exporter": "python",
   "pygments_lexer": "ipython3",
   "version": "3.11.4"
  },
  "orig_nbformat": 4
 },
 "nbformat": 4,
 "nbformat_minor": 2
}
